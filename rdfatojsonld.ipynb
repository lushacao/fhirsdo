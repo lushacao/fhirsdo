{
 "cells": [
  {
   "cell_type": "markdown",
   "metadata": {},
   "source": [
    "# generate fhir.jsonld without content"
   ]
  },
  {
   "cell_type": "markdown",
   "metadata": {},
   "source": [
    "#### The library: [JSON-LD parser and serializer plugins for RDFLib (Python 2.6+)](https://github.com/RDFLib/rdflib-jsonld)"
   ]
  },
  {
   "cell_type": "code",
   "execution_count": 1,
   "metadata": {},
   "outputs": [],
   "source": [
    "#!pip install rdflib-jsonld"
   ]
  },
  {
   "cell_type": "code",
   "execution_count": 6,
   "metadata": {},
   "outputs": [],
   "source": [
    "from rdflib import Graph, plugin"
   ]
  },
  {
   "cell_type": "code",
   "execution_count": 7,
   "metadata": {},
   "outputs": [],
   "source": [
    "from rdflib.serializer import Serializer"
   ]
  },
  {
   "cell_type": "code",
   "execution_count": 8,
   "metadata": {},
   "outputs": [],
   "source": [
    "from rdflib.plugin import register, Serializer\n",
    "register('json-ld', Serializer, 'rdflib_jsonld.serializer', 'JsonLDSerializer')"
   ]
  },
  {
   "cell_type": "markdown",
   "metadata": {},
   "source": [
    "## the following `testrdf` is from fhir.rdfa"
   ]
  },
  {
   "cell_type": "code",
   "execution_count": 28,
   "metadata": {},
   "outputs": [],
   "source": [
    "testrdf = '''\n",
    "<div typeof=\"rdfs:Class\" resource=\"http://schema.org/shareableactivitydefinition\">\n",
    "  <span class=\"h\" property=\"rdfs:label\">fhir:Shareable ActivityDefinition</span>\n",
    "  <span property=\"rdfs:comment\">Enforces the minimum information set for the activity definition metadata required by HL7 and other organizations that share and publish activity definitions</span>\n",
    "  <span>Subclass of: <a property=\"rdfs:subClassOf\" href=\"http://hl7.org/fhir/fivews\">w5:fivews</a></span>\n",
    "  <span>Subclass of: <a property=\"rdfs:subClassOf\" href=\"http://schema.org/ActivityDefinition\">fhir:ActivityDefinition</a></span>\n",
    "  <link property=\"http://schema.org/isPartOf\" href=\"http://fhir.schema.org\" />\n",
    "</div>\n",
    "'''"
   ]
  },
  {
   "cell_type": "code",
   "execution_count": 29,
   "metadata": {},
   "outputs": [],
   "source": [
    "g = Graph().parse(data=testrdf, format='rdfa')"
   ]
  },
  {
   "cell_type": "markdown",
   "metadata": {},
   "source": [
    "### The output in JSON-LD format"
   ]
  },
  {
   "cell_type": "code",
   "execution_count": 30,
   "metadata": {},
   "outputs": [
    {
     "name": "stdout",
     "output_type": "stream",
     "text": [
      "[\n",
      "    {\n",
      "        \"@id\": \"http://schema.org/shareableactivitydefinition\",\n",
      "        \"@type\": [\n",
      "            \"http://www.w3.org/2000/01/rdf-schema#Class\"\n",
      "        ],\n",
      "        \"http://schema.org/isPartOf\": [\n",
      "            {\n",
      "                \"@id\": \"http://fhir.schema.org\"\n",
      "            }\n",
      "        ],\n",
      "        \"http://www.w3.org/2000/01/rdf-schema#comment\": [\n",
      "            {\n",
      "                \"@value\": \"Enforces the minimum information set for the activity definition metadata required by HL7 and other organizations that share and publish activity definitions\"\n",
      "            }\n",
      "        ],\n",
      "        \"http://www.w3.org/2000/01/rdf-schema#label\": [\n",
      "            {\n",
      "                \"@value\": \"fhir:Shareable ActivityDefinition\"\n",
      "            }\n",
      "        ],\n",
      "        \"http://www.w3.org/2000/01/rdf-schema#subClassOf\": [\n",
      "            {\n",
      "                \"@id\": \"http://hl7.org/fhir/fivews\"\n",
      "            },\n",
      "            {\n",
      "                \"@id\": \"http://schema.org/ActivityDefinition\"\n",
      "            }\n",
      "        ]\n",
      "    }\n",
      "]\n"
     ]
    }
   ],
   "source": [
    "print(g.serialize(format='json-ld', indent=4).decode())"
   ]
  },
  {
   "cell_type": "code",
   "execution_count": 31,
   "metadata": {},
   "outputs": [],
   "source": [
    "j = g.serialize(format='json-ld', indent=4).decode()"
   ]
  },
  {
   "cell_type": "code",
   "execution_count": 32,
   "metadata": {},
   "outputs": [
    {
     "data": {
      "text/plain": [
       "'[\\n    {\\n        \"@id\": \"http://schema.org/shareableactivitydefinition\",\\n        \"@type\": [\\n            \"http://www.w3.org/2000/01/rdf-schema#Class\"\\n        ],\\n        \"http://schema.org/isPartOf\": [\\n            {\\n                \"@id\": \"http://fhir.schema.org\"\\n            }\\n        ],\\n        \"http://www.w3.org/2000/01/rdf-schema#comment\": [\\n            {\\n                \"@value\": \"Enforces the minimum information set for the activity definition metadata required by HL7 and other organizations that share and publish activity definitions\"\\n            }\\n        ],\\n        \"http://www.w3.org/2000/01/rdf-schema#label\": [\\n            {\\n                \"@value\": \"fhir:Shareable ActivityDefinition\"\\n            }\\n        ],\\n        \"http://www.w3.org/2000/01/rdf-schema#subClassOf\": [\\n            {\\n                \"@id\": \"http://hl7.org/fhir/fivews\"\\n            },\\n            {\\n                \"@id\": \"http://schema.org/ActivityDefinition\"\\n            }\\n        ]\\n    }\\n]'"
      ]
     },
     "execution_count": 32,
     "metadata": {},
     "output_type": "execute_result"
    }
   ],
   "source": [
    "j"
   ]
  },
  {
   "cell_type": "markdown",
   "metadata": {},
   "source": [
    "### The output in turtle format"
   ]
  },
  {
   "cell_type": "code",
   "execution_count": 22,
   "metadata": {
    "scrolled": true
   },
   "outputs": [
    {
     "name": "stdout",
     "output_type": "stream",
     "text": [
      "@prefix ns1: <http://schema.org/> .\n",
      "@prefix rdf: <http://www.w3.org/1999/02/22-rdf-syntax-ns#> .\n",
      "@prefix rdfs: <http://www.w3.org/2000/01/rdf-schema#> .\n",
      "@prefix xml: <http://www.w3.org/XML/1998/namespace> .\n",
      "@prefix xsd: <http://www.w3.org/2001/XMLSchema#> .\n",
      "\n",
      "ns1:shareableactivitydefinition a rdfs:Class ;\n",
      "    rdfs:label \"fhir:Shareable ActivityDefinition\" ;\n",
      "    ns1:isPartOf <http://fhir.schema.org> ;\n",
      "    rdfs:comment \"Enforces the minimum information set for the activity definition metadata required by HL7 and other organizations that share and publish activity definitions\" ;\n",
      "    rdfs:subClassOf <http://hl7.org/fhir/fivews>,\n",
      "        ns1:ActivityDefinition .\n",
      "\n",
      "\n"
     ]
    }
   ],
   "source": [
    "print(g.serialize(format='turtle', indent=4).decode())"
   ]
  },
  {
   "cell_type": "markdown",
   "metadata": {},
   "source": [
    "### generate the jsonld output with fhir.rdfa"
   ]
  },
  {
   "cell_type": "code",
   "execution_count": 16,
   "metadata": {},
   "outputs": [],
   "source": [
    "with open('fhir.rdfa','r') as file:\n",
    "    data = file.readlines()"
   ]
  },
  {
   "cell_type": "code",
   "execution_count": 2,
   "metadata": {},
   "outputs": [],
   "source": [
    "#for line in data:\n",
    "    #print(line)"
   ]
  },
  {
   "cell_type": "code",
   "execution_count": 21,
   "metadata": {},
   "outputs": [],
   "source": [
    "str1 = ''.join(data)"
   ]
  },
  {
   "cell_type": "code",
   "execution_count": 3,
   "metadata": {},
   "outputs": [],
   "source": [
    "#str1"
   ]
  },
  {
   "cell_type": "code",
   "execution_count": 34,
   "metadata": {},
   "outputs": [],
   "source": [
    "g = Graph().parse(data=str1, format='rdfa')"
   ]
  },
  {
   "cell_type": "code",
   "execution_count": 35,
   "metadata": {},
   "outputs": [],
   "source": [
    "j = g.serialize(format='json-ld', indent=4).decode()"
   ]
  },
  {
   "cell_type": "code",
   "execution_count": 4,
   "metadata": {},
   "outputs": [],
   "source": [
    "#print(j[0:200])"
   ]
  },
  {
   "cell_type": "code",
   "execution_count": 39,
   "metadata": {},
   "outputs": [],
   "source": [
    "with open('fhir.jsonld', 'w') as f:\n",
    "    print(j, file=f)  "
   ]
  },
  {
   "cell_type": "code",
   "execution_count": null,
   "metadata": {},
   "outputs": [],
   "source": []
  }
 ],
 "metadata": {
  "kernelspec": {
   "display_name": "Python 3",
   "language": "python",
   "name": "python3"
  },
  "language_info": {
   "codemirror_mode": {
    "name": "ipython",
    "version": 3
   },
   "file_extension": ".py",
   "mimetype": "text/x-python",
   "name": "python",
   "nbconvert_exporter": "python",
   "pygments_lexer": "ipython3",
   "version": "3.6.8"
  }
 },
 "nbformat": 4,
 "nbformat_minor": 2
}
